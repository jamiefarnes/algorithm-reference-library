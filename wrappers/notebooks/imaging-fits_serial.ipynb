{
 "cells": [
  {
   "cell_type": "markdown",
   "metadata": {},
   "source": [
    "## Demonstrate full circle wide field imaging\n",
    "\n",
    "This include prediction of components, inversion, point source fitting. We will compare the output images with the input models, looking for closeness in flux and position."
   ]
  },
  {
   "cell_type": "code",
   "execution_count": null,
   "metadata": {
    "ExecuteTime": {
     "end_time": "2018-04-15T13:38:25.333198Z",
     "start_time": "2018-04-15T13:38:25.256807Z"
    }
   },
   "outputs": [],
   "source": [
    "% matplotlib inline\n",
    "\n",
    "import os\n",
    "import sys\n",
    "\n",
    "sys.path.append(os.path.join('..', '..'))\n",
    "\n",
    "from data_models.parameters import arl_path\n",
    "results_dir = arl_path('test_results')\n",
    "\n",
    "from matplotlib import pylab\n",
    "\n",
    "pylab.rcParams['figure.figsize'] = (10.0, 10.0)\n",
    "pylab.rcParams['image.cmap'] = 'rainbow'\n",
    "\n",
    "import numpy\n",
    "\n",
    "from astropy.coordinates import SkyCoord\n",
    "from astropy.time import Time\n",
    "from astropy import units as u\n",
    "from astropy.wcs.utils import pixel_to_skycoord\n",
    "\n",
    "from data_models.polarisation import PolarisationFrame\n",
    "\n",
    "from processing_components.visibility.base import create_visibility\n",
    "from processing_components.visibility.operations import sum_visibility\n",
    "from processing_components.visibility.iterators import vis_timeslices, vis_wslices\n",
    "from processing_components.simulation.testing_support import create_named_configuration\n",
    "\n",
    "from matplotlib import pyplot as plt\n",
    "\n",
    "from processing_components.skycomponent.operations import create_skycomponent, find_skycomponents, \\\n",
    "    find_nearest_skycomponent, insert_skycomponent\n",
    "from processing_components.image.operations import show_image, export_image_to_fits, qa_image, smooth_image\n",
    "from libs.image.iterators import image_raster_iter\n",
    "from processing_components.simulation.testing_support import create_named_configuration\n",
    "from processing_components.imaging.base import advise_wide_field, create_image_from_visibility, \\\n",
    "    predict_skycomponent_visibility\n",
    "from wrappers.shared.imaging.imaging_shared import imaging_contexts\n",
    "from wrappers.serial.imaging.imaging_serial import predict_serial, invert_serial\n",
    "import logging\n",
    "\n",
    "log = logging.getLogger()\n",
    "log.setLevel(logging.DEBUG)\n",
    "log.addHandler(logging.StreamHandler(sys.stdout))\n"
   ]
  },
  {
   "cell_type": "markdown",
   "metadata": {},
   "source": [
    "Construct the SKA1-LOW core configuration"
   ]
  },
  {
   "cell_type": "code",
   "execution_count": null,
   "metadata": {
    "ExecuteTime": {
     "end_time": "2018-04-15T13:38:26.538112Z",
     "start_time": "2018-04-15T13:38:26.531220Z"
    }
   },
   "outputs": [],
   "source": [
    "lowcore = create_named_configuration('LOWBD2-CORE')"
   ]
  },
  {
   "cell_type": "markdown",
   "metadata": {},
   "source": [
    "We create the visibility. This just makes the uvw, time, antenna1, antenna2, weight columns in a table"
   ]
  },
  {
   "cell_type": "code",
   "execution_count": null,
   "metadata": {
    "ExecuteTime": {
     "end_time": "2018-04-15T13:38:28.557587Z",
     "start_time": "2018-04-15T13:38:27.854077Z"
    },
    "scrolled": false
   },
   "outputs": [],
   "source": [
    "times = numpy.array([-3.0, -2.0, -1.0, 0.0, 1.0, 2.0, 3.0]) * (numpy.pi / 12.0)\n",
    "frequency = numpy.array([1e8])\n",
    "channel_bandwidth = numpy.array([1e6])\n",
    "reffrequency = numpy.max(frequency)\n",
    "phasecentre = SkyCoord(ra=+15.0 * u.deg, dec=-45.0 * u.deg, frame='icrs', equinox='J2000')\n",
    "vt = create_visibility(lowcore, times, frequency, channel_bandwidth=channel_bandwidth,\n",
    "                       weight=1.0, phasecentre=phasecentre, \n",
    "                       polarisation_frame=PolarisationFrame('stokesI'))"
   ]
  },
  {
   "cell_type": "code",
   "execution_count": null,
   "metadata": {
    "ExecuteTime": {
     "end_time": "2018-04-15T13:38:28.604991Z",
     "start_time": "2018-04-15T13:38:28.560994Z"
    }
   },
   "outputs": [],
   "source": [
    "advice = advise_wide_field(vt, wprojection_planes=1)"
   ]
  },
  {
   "cell_type": "markdown",
   "metadata": {},
   "source": [
    "Fill in the visibility with exact calculation of a number of point sources"
   ]
  },
  {
   "cell_type": "code",
   "execution_count": null,
   "metadata": {
    "ExecuteTime": {
     "end_time": "2018-04-15T13:38:49.009517Z",
     "start_time": "2018-04-15T13:38:30.271819Z"
    },
    "scrolled": false
   },
   "outputs": [],
   "source": [
    "vt.data['vis'] *= 0.0\n",
    "npixel=256\n",
    "\n",
    "model = create_image_from_visibility(vt, npixel=npixel, cellsize=0.001, nchan=1, \n",
    "                                     polarisation_frame=PolarisationFrame('stokesI'))\n",
    "centre = model.wcs.wcs.crpix-1\n",
    "spacing_pixels = npixel // 8\n",
    "log.info('Spacing in pixels = %s' % spacing_pixels)\n",
    "spacing = model.wcs.wcs.cdelt * spacing_pixels\n",
    "locations = [-3.5, -2.5, -1.5, -0.5, 0.5, 1.5, 2.5, 3.5]\n",
    "\n",
    "original_comps = []\n",
    "# We calculate the source positions in pixels and then calculate the\n",
    "# world coordinates to put in the skycomponent description\n",
    "for iy in locations:\n",
    "    for ix in locations:\n",
    "        if ix >= iy:\n",
    "            p = int(round(centre[0] + ix * spacing_pixels * numpy.sign(model.wcs.wcs.cdelt[0]))), \\\n",
    "                int(round(centre[1] + iy * spacing_pixels * numpy.sign(model.wcs.wcs.cdelt[1])))\n",
    "            sc = pixel_to_skycoord(p[0], p[1], model.wcs)\n",
    "            log.info(\"Component at (%f, %f) [0-rel] %s\" % (p[0], p[1], str(sc)))\n",
    "            flux = numpy.array([[100.0 + 2.0 * ix + iy * 20.0]])\n",
    "            comp = create_skycomponent(flux=flux, frequency=frequency, direction=sc, \n",
    "                                       polarisation_frame=PolarisationFrame('stokesI'))\n",
    "            original_comps.append(comp)\n",
    "            insert_skycomponent(model, comp)\n",
    "\n",
    "predict_skycomponent_visibility(vt, original_comps)\n",
    "\n",
    "        \n",
    "cmodel = smooth_image(model) \n",
    "show_image(cmodel)\n",
    "plt.title(\"Smoothed model image\")\n",
    "plt.show()"
   ]
  },
  {
   "cell_type": "markdown",
   "metadata": {},
   "source": [
    "Check that the skycoordinate and image coordinate system are consistent by finding the point sources."
   ]
  },
  {
   "cell_type": "code",
   "execution_count": null,
   "metadata": {
    "ExecuteTime": {
     "end_time": "2018-04-15T13:38:51.528621Z",
     "start_time": "2018-04-15T13:38:49.011684Z"
    }
   },
   "outputs": [],
   "source": [
    "comps = find_skycomponents(cmodel, fwhm=1.0, threshold=10.0, npixels=5)\n",
    "plt.clf()\n",
    "for i in range(len(comps)):\n",
    "    ocomp, sep = find_nearest_skycomponent(comps[i].direction, original_comps)\n",
    "    plt.plot((comps[i].direction.ra.value  - ocomp.direction.ra.value)/cmodel.wcs.wcs.cdelt[0], \n",
    "             (comps[i].direction.dec.value - ocomp.direction.dec.value)/cmodel.wcs.wcs.cdelt[1], \n",
    "             '.', color='r')  \n",
    "\n",
    "plt.xlabel('delta RA (pixels)')\n",
    "plt.ylabel('delta DEC (pixels)')\n",
    "plt.title(\"Recovered - Original position offsets\")\n",
    "plt.show()"
   ]
  },
  {
   "cell_type": "markdown",
   "metadata": {},
   "source": [
    "Predict the visibility using the different approaches."
   ]
  },
  {
   "cell_type": "code",
   "execution_count": null,
   "metadata": {
    "ExecuteTime": {
     "end_time": "2018-04-15T13:38:57.844561Z",
     "start_time": "2018-04-15T13:38:57.838896Z"
    }
   },
   "outputs": [],
   "source": [
    "contexts = imaging_contexts().keys()\n",
    "print(contexts)"
   ]
  },
  {
   "cell_type": "code",
   "execution_count": null,
   "metadata": {
    "ExecuteTime": {
     "end_time": "2018-04-15T13:49:19.300779Z",
     "start_time": "2018-04-15T13:49:10.411Z"
    },
    "scrolled": false
   },
   "outputs": [],
   "source": [
    "contexts = ['2d', 'facets', 'timeslice', 'wstack', 'wprojection']\n",
    "\n",
    "for context in contexts:\n",
    "    \n",
    "    print('Processing context %s' % context)\n",
    "   \n",
    "    vtpredict = create_visibility(lowcore, times, frequency, channel_bandwidth=channel_bandwidth,\n",
    "        weight=1.0, phasecentre=phasecentre, polarisation_frame=PolarisationFrame('stokesI'))\n",
    "\n",
    " \n",
    "    if context == 'wprojection':       \n",
    "        vtpredict = predict_serial(vtpredict, model, context='2d', wstep = advice['w_sampling_primary_beam'])\n",
    "    \n",
    "    elif context == 'facets':\n",
    "        vtpredict = predict_serial(vtpredict, model, context=context, facets=8)\n",
    "        \n",
    "    elif context == 'timeslice':\n",
    "        vtpredict = predict_serial(vtpredict, model, context=context, vis_slices=vis_timeslices(vtpredict, 'auto'))\n",
    "\n",
    "    elif context == 'wstack':\n",
    "        vtpredict = predict_serial(vtpredict, model, context=context, vis_slices=31)\n",
    "\n",
    "    else:\n",
    "        vtpredict = predict_serial(vtpredict, model, context=context\n",
    "                                     )\n",
    "\n",
    "    uvdist = numpy.sqrt(vt.data['uvw'][:, 0] ** 2 + vt.data['uvw'][:, 1] ** 2)\n",
    "    plt.clf()\n",
    "    plt.plot(uvdist, numpy.abs(vt.data['vis'][:]), '.', color='r', label=\"DFT\")\n",
    "    \n",
    "    plt.plot(uvdist, numpy.abs(vtpredict.data['vis'][:]), '.', color='b', label=context)\n",
    "    plt.plot(uvdist, numpy.abs(vtpredict.data['vis'][:] - vt.data['vis'][:]), '.', color='g', label=\"Residual\")\n",
    "    plt.xlabel('uvdist')\n",
    "    plt.ylabel('Amp Visibility')\n",
    "    plt.legend()\n",
    "    plt.show()\n"
   ]
  },
  {
   "cell_type": "code",
   "execution_count": null,
   "metadata": {},
   "outputs": [],
   "source": []
  },
  {
   "cell_type": "markdown",
   "metadata": {},
   "source": [
    "Make the image using the different approaches. We will evaluate the results using a number of plots:\n",
    "\n",
    "- The error in fitted versus the radius. The ideal result is a straightline fitted: flux = DFT flux\n",
    "- The offset in RA versus the offset in DEC. The ideal result is a cluster around 0 pixels.\n",
    "\n",
    "The sampling in w is set to provide 2% decorrelation at the half power point of the primary beam.\n"
   ]
  },
  {
   "cell_type": "code",
   "execution_count": null,
   "metadata": {
    "ExecuteTime": {
     "start_time": "2018-04-15T13:32:13.299Z"
    },
    "scrolled": false
   },
   "outputs": [],
   "source": [
    "contexts = ['2d', 'facets', 'timeslice', 'wstack', 'wprojection']\n",
    "\n",
    "for context in contexts:\n",
    "\n",
    "    targetimage = create_image_from_visibility(vt, npixel=npixel, cellsize=0.001, nchan=1,\n",
    "                                               polarisation_frame=PolarisationFrame('stokesI'))\n",
    "\n",
    "\n",
    "    print('Processing context %s' % context)\n",
    "    if context == 'wprojection':       \n",
    "        targetimage, sumwt = invert_serial(vt, targetimage, context='2d', wstep = advice[\n",
    "            'w_sampling_primary_beam'])\n",
    "    \n",
    "    elif context == 'facets':\n",
    "        targetimage, sumwt = invert_serial(vt, targetimage, context=context, facets=8)\n",
    "        \n",
    "    elif context == 'timeslice':\n",
    "        targetimage, sumwt = invert_serial(vt, targetimage, context=context, vis_slices=vis_timeslices(vt, 'auto'))\n",
    "\n",
    "    elif context == 'wstack':\n",
    "        targetimage, sumwt = invert_serial(vt, targetimage, context=context, vis_slices=31)\n",
    "\n",
    "    else:\n",
    "        targetimage, sumwt = invert_serial(vt, targetimage, context=context)\n",
    "\n",
    "    show_image(targetimage)\n",
    "    plt.title(context)\n",
    "    plt.show()\n",
    "\n",
    "    print(\"Dirty Image %s\" % qa_image(targetimage, context=\"imaging-fits notebook, using processor %s\" % context))\n",
    "\n",
    "    export_image_to_fits(targetimage, '%s/imaging-fits_dirty_%s.fits' % (results_dir, context))\n",
    "    comps = find_skycomponents(targetimage, fwhm=1.0, threshold=10.0, npixels=5)\n",
    "\n",
    "    plt.clf()\n",
    "    for comp in comps:\n",
    "        distance = comp.direction.separation(model.phasecentre)\n",
    "        dft_flux = sum_visibility(vt, comp.direction)[0]\n",
    "        err = (comp.flux[0, 0] - dft_flux) / dft_flux\n",
    "        plt.plot(distance, err, '.', color='r')\n",
    "    plt.ylabel('Fractional error of image vs DFT')\n",
    "    plt.xlabel('Distance from phasecentre (deg)')\n",
    "    plt.title(\n",
    "        \"Fractional error in %s recovered flux vs distance from phasecentre\" %\n",
    "        context)\n",
    "    plt.show()\n",
    "\n",
    "    checkpositions = True\n",
    "    if checkpositions:\n",
    "        plt.clf()\n",
    "        for i in range(len(comps)):\n",
    "            ocomp, sep = find_nearest_skycomponent(comps[i].direction, original_comps)\n",
    "            plt.plot(\n",
    "                (comps[i].direction.ra.value - ocomp.direction.ra.value) /\n",
    "                targetimage.wcs.wcs.cdelt[0],\n",
    "                (comps[i].direction.dec.value - ocomp.direction.dec.value) /\n",
    "                targetimage.wcs.wcs.cdelt[1],\n",
    "                '.',\n",
    "                color='r')\n",
    "\n",
    "        plt.xlabel('delta RA (pixels)')\n",
    "        plt.ylabel('delta DEC (pixels)')\n",
    "        plt.title(\"%s: Position offsets\" % context)\n",
    "        plt.show()"
   ]
  },
  {
   "cell_type": "code",
   "execution_count": null,
   "metadata": {},
   "outputs": [],
   "source": []
  }
 ],
 "metadata": {
  "kernelspec": {
   "display_name": "Python 3",
   "language": "python",
   "name": "python3"
  },
  "language_info": {
   "codemirror_mode": {
    "name": "ipython",
    "version": 3
   },
   "file_extension": ".py",
   "mimetype": "text/x-python",
   "name": "python",
   "nbconvert_exporter": "python",
   "pygments_lexer": "ipython3",
   "version": "3.6.1"
  }
 },
 "nbformat": 4,
 "nbformat_minor": 2
}
